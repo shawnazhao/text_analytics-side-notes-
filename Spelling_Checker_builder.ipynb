{
 "cells": [
  {
   "cell_type": "markdown",
   "metadata": {},
   "source": [
    "## example 1\n",
    "### building spelling checker based on Jaccard distance"
   ]
  },
  {
   "cell_type": "code",
   "execution_count": 2,
   "metadata": {},
   "outputs": [
    {
     "name": "stdout",
     "output_type": "stream",
     "text": [
      "[nltk_data] Downloading package words to /home/jovyan/nltk_data...\n",
      "[nltk_data]   Package words is already up-to-date!\n",
      "<class 'list'>\n",
      "['A', 'a', 'aa', 'aal', 'aalii', 'aam', 'Aani', 'aardvark', 'aardwolf', 'Aaron']\n"
     ]
    }
   ],
   "source": [
    "from nltk.corpus import words\n",
    "import nltk\n",
    "nltk.download('words')\n",
    "  \n",
    "correct_spellings = words.words()\n",
    "print(type(correct_spellings))\n",
    "print(correct_spellings[:10])"
   ]
  },
  {
   "cell_type": "code",
   "execution_count": 8,
   "metadata": {
    "collapsed": true
   },
   "outputs": [],
   "source": [
    "from nltk.util import ngrams\n",
    "\n",
    "def answer_one(entry):\n",
    "    a_char = set(ngrams(entry, n=3))\n",
    "    word_start=entry[0]\n",
    "    spell_list = correct_spellings[:]\n",
    "    spell_set = []\n",
    "\n",
    "    smallest_a = nltk.jaccard_distance(set(ngrams(spell_list[0].lower(),n=3)), set(a_char))\n",
    "   \n",
    "    a = spell_list[0]\n",
    "   \n",
    "    for word in spell_list:\n",
    "        if word.lower().startswith(word_start):\n",
    "    \n",
    "            word_cut = set(ngrams(word.lower(), n=3))\n",
    "\n",
    "            jd_a_char = nltk.jaccard_distance(word_cut, set(a_char))\n",
    "            if smallest_a >= jd_a_char:\n",
    "                smallest_a = jd_a_char\n",
    "                a = word.lower()\n",
    "                \n",
    "                    \n",
    "\n",
    "    return a\n",
    "\n",
    "\n"
   ]
  },
  {
   "cell_type": "code",
   "execution_count": 11,
   "metadata": {},
   "outputs": [
    {
     "name": "stderr",
     "output_type": "stream",
     "text": [
      "/opt/conda/lib/python3.6/site-packages/ipykernel_launcher.py:9: DeprecationWarning: generator 'ngrams' raised StopIteration\n",
      "  if __name__ == '__main__':\n",
      "/opt/conda/lib/python3.6/site-packages/ipykernel_launcher.py:16: DeprecationWarning: generator 'ngrams' raised StopIteration\n",
      "  app.launch_new_instance()\n"
     ]
    },
    {
     "name": "stdout",
     "output_type": "stream",
     "text": [
      "apple\n",
      "banana\n",
      "orange\n"
     ]
    }
   ],
   "source": [
    "# checking the work\n",
    "\n",
    "word_list=['appple','bananna','orange']\n",
    "\n",
    "for each in word_list:\n",
    "    print(answer_one(each))"
   ]
  },
  {
   "cell_type": "code",
   "execution_count": null,
   "metadata": {
    "collapsed": true
   },
   "outputs": [],
   "source": []
  }
 ],
 "metadata": {
  "kernelspec": {
   "display_name": "Python 3",
   "language": "python",
   "name": "python3"
  },
  "language_info": {
   "codemirror_mode": {
    "name": "ipython",
    "version": 3
   },
   "file_extension": ".py",
   "mimetype": "text/x-python",
   "name": "python",
   "nbconvert_exporter": "python",
   "pygments_lexer": "ipython3",
   "version": "3.6.2"
  }
 },
 "nbformat": 4,
 "nbformat_minor": 2
}
