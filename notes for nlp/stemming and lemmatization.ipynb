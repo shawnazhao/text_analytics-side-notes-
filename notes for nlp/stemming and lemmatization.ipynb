{
 "cells": [
  {
   "cell_type": "markdown",
   "metadata": {},
   "source": [
    "# engling stemming\n",
    "- PorterStemmer->suffix stripping\n",
    "- LancasterStemmer-> more aggressive \n",
    "                  ->over stemmer might occur"
   ]
  },
  {
   "cell_type": "markdown",
   "metadata": {},
   "source": [
    "## stemming \n",
    "1. input a text\n",
    "2. seperate sentence\n",
    "3. tokenize words\n",
    "4. stemm the words\n",
    "5. lammanization\n",
    "6. you can probably join the words together"
   ]
  }
 ],
 "metadata": {
  "kernelspec": {
   "display_name": "Python 3",
   "language": "python",
   "name": "python3"
  },
  "language_info": {
   "codemirror_mode": {
    "name": "ipython",
    "version": 3
   },
   "file_extension": ".py",
   "mimetype": "text/x-python",
   "name": "python",
   "nbconvert_exporter": "python",
   "pygments_lexer": "ipython3",
   "version": "3.7.4"
  }
 },
 "nbformat": 4,
 "nbformat_minor": 2
}
